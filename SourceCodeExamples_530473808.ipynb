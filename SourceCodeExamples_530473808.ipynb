{
 "cells": [
  {
   "cell_type": "markdown",
   "id": "532b400f-7fb4-45cd-bf42-d4c4bed2d2b2",
   "metadata": {},
   "source": [
    "# Monte Carlo and Finite Difference Methods in Pricing Financial Derivatives\n",
    "#### Group Number: 15 | SID: 530473808"
   ]
  },
  {
   "cell_type": "markdown",
   "id": "5fdc3fcf-49f9-4027-8c3f-ee195938da9f",
   "metadata": {},
   "source": [
    "## Imports"
   ]
  },
  {
   "cell_type": "code",
   "execution_count": 123,
   "id": "db72b237-522b-4bfd-8a6d-c8edd1edb32f",
   "metadata": {},
   "outputs": [],
   "source": [
    "import numpy as np\n",
    "import matplotlib.pyplot as plt\n",
    "import math\n",
    "import scipy.stats as ss\n",
    "from scipy.interpolate import interp1d\n",
    "import statsmodels.api as sm\n",
    "import pandas as pd"
   ]
  },
  {
   "cell_type": "markdown",
   "id": "2cd7f767-6891-4929-af93-1fa842e8e154",
   "metadata": {},
   "source": [
    "## 6. Numerical Examples"
   ]
  },
  {
   "cell_type": "markdown",
   "id": "d6e2ae38-e780-4ea9-876d-1fbbab0cbe1c",
   "metadata": {},
   "source": [
    "### 6.1 European Call"
   ]
  },
  {
   "cell_type": "markdown",
   "id": "a403d6de-4f99-4d1a-adf6-397e1a8a4704",
   "metadata": {},
   "source": [
    "#### Black-Scholes Exact"
   ]
  },
  {
   "cell_type": "code",
   "execution_count": 19,
   "id": "fa26cec5-f522-4614-a6fa-1d36182494a9",
   "metadata": {},
   "outputs": [
    {
     "data": {
      "text/plain": [
       "(0.11306156296769698, 51.324258150740974)"
      ]
     },
     "execution_count": 19,
     "metadata": {},
     "output_type": "execute_result"
    }
   ],
   "source": [
    "S0, K, r, sigma, T = 70, 130, 0.07, 0.25, 1.0\n",
    "\n",
    "d1 = (np.log(S0 / K) + (r + 0.5 * sigma ** 2) * T) / (sigma * np.sqrt(T))\n",
    "d2 = d1 - sigma * np.sqrt(T)\n",
    "\n",
    "call_price = S0 * ss.norm.cdf(d1) - K * np.exp(-r * T) * ss.norm.cdf(d2)\n",
    "put_price  = K * np.exp(-r * T) * ss.norm.cdf(-d2) - S0 * ss.norm.cdf(-d1)\n",
    "\n",
    "call_price, put_price"
   ]
  },
  {
   "cell_type": "markdown",
   "id": "20f4c152-0efe-416b-825a-8dc06975e413",
   "metadata": {},
   "source": [
    "#### Basic Monte Carlo"
   ]
  },
  {
   "cell_type": "code",
   "execution_count": 28,
   "id": "20b4ae26-8076-49a8-bae2-b6fea0582dad",
   "metadata": {},
   "outputs": [
    {
     "data": {
      "text/plain": [
       "(0.05913088494007343, 0.029547521295721472)"
      ]
     },
     "execution_count": 28,
     "metadata": {},
     "output_type": "execute_result"
    }
   ],
   "source": [
    "S0, K, r, sigma, T = 70, 130, 0.07, 0.25, 1.0\n",
    "N = 1024\n",
    "\n",
    "rng = np.random.default_rng(0)\n",
    "Z = rng.normal(size = N)\n",
    "ST = S0 * np.exp((r - 0.5 * sigma**2) * T + sigma * np.sqrt(T) * Z)\n",
    "disc_payoffs = np.exp(-r*T) * np.maximum(ST - K, 0.0)\n",
    "price_mc = disc_payoffs.mean()\n",
    "std_err = disc_payoffs.std(ddof=1) / np.sqrt(N)\n",
    "\n",
    "(price_mc, std_err)"
   ]
  },
  {
   "cell_type": "markdown",
   "id": "0fbff815-c7b0-4e5b-86ef-275e1af88978",
   "metadata": {},
   "source": [
    "#### Antithetic Variables Monte Carlo"
   ]
  },
  {
   "cell_type": "code",
   "execution_count": 31,
   "id": "8af864d2-0de6-418d-9c3b-ab8b3a3e9cee",
   "metadata": {},
   "outputs": [
    {
     "data": {
      "text/plain": [
       "(0.1451447869596705, 0.04704041466089442)"
      ]
     },
     "execution_count": 31,
     "metadata": {},
     "output_type": "execute_result"
    }
   ],
   "source": [
    "S0, K, r, sigma, T = 70, 130, 0.07, 0.25, 1.0\n",
    "N = 1024\n",
    "\n",
    "rng = np.random.default_rng(0)\n",
    "Z = rng.normal(size = N)\n",
    "antiZ = -Z\n",
    "ST = S0 * np.exp((r - 0.5 * sigma**2) * T + sigma * np.sqrt(T) * Z)\n",
    "antiST = S0 * np.exp((r - 0.5 * sigma**2) * T + sigma * np.sqrt(T) * antiZ)\n",
    "disc_payoffs = np.exp(-r*T) * np.maximum(ST - K, 0.0)\n",
    "antidisc_payoffs = np.exp(-r*T) * np.maximum(antiST - K, 0.0)\n",
    "paired_avg = 0.5 * (disc_payoffs + antidisc_payoffs)\n",
    "price_mc = np.mean(paired_avg)\n",
    "std_err = paired_avg.std(ddof=1) / np.sqrt(N)\n",
    "\n",
    "(price_mc, std_err)"
   ]
  },
  {
   "cell_type": "markdown",
   "id": "9480b0f6-dcef-4ff9-a514-ac55926594fa",
   "metadata": {},
   "source": [
    "#### Importance Sampling Monte Carlo"
   ]
  },
  {
   "cell_type": "code",
   "execution_count": 36,
   "id": "2156fd5f-143b-4f11-b97c-5d657bbf86d3",
   "metadata": {},
   "outputs": [
    {
     "data": {
      "text/plain": [
       "(3.321156833624894, 0.11985059471718733, 0.00414535895938793)"
      ]
     },
     "execution_count": 36,
     "metadata": {},
     "output_type": "execute_result"
    }
   ],
   "source": [
    "S0, K, r, sigma, T = 70, 130, 0.07, 0.25, 1.0\n",
    "N = 1024\n",
    "\n",
    "Z_star = (np.log(K/S0) - (r - 0.5*sigma**2)*T) / (sigma*np.sqrt(T))\n",
    "mu = max(0.0, Z_star + 1.0)\n",
    "\n",
    "rng = np.random.default_rng(0)\n",
    "Z_mu = rng.normal(loc=mu, scale=1.0, size=N)\n",
    "\n",
    "weights = np.exp(-mu*Z_mu + 0.5*mu**2)\n",
    "\n",
    "ST = S0 * np.exp((r - 0.5*sigma**2)*T + sigma*np.sqrt(T)*Z_mu)\n",
    "payoff = np.maximum(ST - K, 0.0)\n",
    "disc_payoff = np.exp(-r*T) * payoff\n",
    "\n",
    "Y = weights * disc_payoff\n",
    "price_is = Y.mean()\n",
    "std_err_is = Y.std(ddof=1) / np.sqrt(N)\n",
    "\n",
    "(mu, price_is, std_err_is)"
   ]
  },
  {
   "cell_type": "markdown",
   "id": "55513233-f82a-4535-9c66-f15b90dee91a",
   "metadata": {},
   "source": [
    "#### Control Variate Monte Carlo"
   ]
  },
  {
   "cell_type": "code",
   "execution_count": 39,
   "id": "58f545ab-9423-48c1-be50-80aadcfff50f",
   "metadata": {},
   "outputs": [
    {
     "data": {
      "text/plain": [
       "(0.013897959384434583, 0.07281122762606491, 0.028617214756624994)"
      ]
     },
     "execution_count": 39,
     "metadata": {},
     "output_type": "execute_result"
    }
   ],
   "source": [
    "S0, K, r, sigma, T = 70, 130, 0.07, 0.25, 1.0\n",
    "N = 1024\n",
    "\n",
    "rng = np.random.default_rng(0)\n",
    "Z  = rng.standard_normal(N)\n",
    "ST = S0 * np.exp((r - 0.5*sigma**2)*T + sigma*np.sqrt(T)*Z)\n",
    "\n",
    "X = np.exp(-r*T) * np.maximum(ST - K, 0.0)\n",
    "Y = np.exp(-r*T) * ST\n",
    "EY = S0\n",
    "\n",
    "cov_XY = np.cov(X, Y, ddof=1)[0,1]\n",
    "var_Y  = np.var(Y, ddof=1)\n",
    "beta   = cov_XY / var_Y\n",
    "\n",
    "X_cv = X - beta*(Y - EY)\n",
    "\n",
    "price_cv  = X_cv.mean()\n",
    "se_cv     = X_cv.std(ddof=1) / np.sqrt(N)\n",
    "\n",
    "(beta, price_cv, se_cv)"
   ]
  },
  {
   "cell_type": "markdown",
   "id": "fbafa881-3431-4a9c-a200-44ca4579bac0",
   "metadata": {},
   "source": [
    "#### Quasi-Monte Carlo with Sobol"
   ]
  },
  {
   "cell_type": "code",
   "execution_count": 21,
   "id": "59830560-4015-4e0b-b962-f5999a722acc",
   "metadata": {},
   "outputs": [
    {
     "data": {
      "text/plain": [
       "(0.11116516164626428, 0.04739177246118439)"
      ]
     },
     "execution_count": 21,
     "metadata": {},
     "output_type": "execute_result"
    }
   ],
   "source": [
    "S0, K, r, sigma, T = 70, 130, 0.07, 0.25, 1.0\n",
    "N = 1024\n",
    "\n",
    "sobol = ss.qmc.Sobol(d=1, scramble=True)\n",
    "U = sobol.random(N).flatten()\n",
    "Z = ss.norm.ppf(U)\n",
    "\n",
    "ST = S0 * np.exp((r - 0.5 * sigma**2) * T + sigma * np.sqrt(T) * Z)\n",
    "disc_payoffs = np.exp(-r*T) * np.maximum(ST - K, 0.0)\n",
    "price_mc = disc_payoffs.mean()\n",
    "std_err = disc_payoffs.std(ddof=1) / np.sqrt(N)\n",
    "\n",
    "(price_mc, std_err)"
   ]
  },
  {
   "cell_type": "markdown",
   "id": "faadd4f6-5edd-4b17-aec2-645ca830a05f",
   "metadata": {},
   "source": [
    "#### Euler-Maruyama Method"
   ]
  },
  {
   "cell_type": "code",
   "execution_count": 49,
   "id": "5a004080-b832-46ae-b57d-2c8d8e1b93e3",
   "metadata": {},
   "outputs": [
    {
     "data": {
      "text/plain": [
       "13.518021611408617"
      ]
     },
     "execution_count": 49,
     "metadata": {},
     "output_type": "execute_result"
    }
   ],
   "source": [
    "S0, K, r, sigma, T, npaths, nt = 100, 100, 0.07, 0.25, 1, 10000, 1000\n",
    "dt = T / nt\n",
    "\n",
    "paths_euler = []\n",
    "for i in range(npaths):\n",
    "    S = np.zeros(nt + 1)\n",
    "    S[0] = S0\n",
    "    for t in range(nt):\n",
    "        change = np.random.normal()\n",
    "        S[t+1] = S[t] + r * S[t] * dt + sigma * S[t] * np.sqrt(dt) * change\n",
    "    paths_euler.append(S)\n",
    "\n",
    "ST_euler = np.asarray(paths_euler)[:, -1]\n",
    "payoffs_euler = np.maximum(0, ST_euler - K)\n",
    "price = np.exp(-r * T) * np.mean(payoffs_euler)\n",
    "price"
   ]
  },
  {
   "cell_type": "markdown",
   "id": "7e929e61-ef6e-4556-9c84-33ef4bc6f29b",
   "metadata": {},
   "source": [
    "#### Milstein Method"
   ]
  },
  {
   "cell_type": "code",
   "execution_count": 51,
   "id": "b0bf15b3-53c3-47b0-b6ea-83ffa41bc592",
   "metadata": {},
   "outputs": [
    {
     "data": {
      "text/plain": [
       "13.360500360033283"
      ]
     },
     "execution_count": 51,
     "metadata": {},
     "output_type": "execute_result"
    }
   ],
   "source": [
    "paths_milstein = []\n",
    "for i in range(npaths):\n",
    "    S = np.zeros(nt + 1)\n",
    "    S[0] = S0\n",
    "    for t in range(nt):\n",
    "        change = np.random.normal()\n",
    "        S[t+1] = (S[t] + r * S[t] * dt + sigma * S[t] * np.sqrt(dt) * change + 0.5 * sigma**2 * dt * (change**2 - 1) * S[t])\n",
    "    paths_milstein.append(S)\n",
    "\n",
    "ST_milstein = np.asarray(paths_milstein)[:, -1]\n",
    "payoffs_milstein = np.maximum(0, ST_milstein - K)\n",
    "price = np.exp(-r * T) * np.mean(payoffs_milstein)\n",
    "price"
   ]
  },
  {
   "cell_type": "markdown",
   "id": "4b6921a2-9e0b-4a03-a20b-a7f361b47d5d",
   "metadata": {},
   "source": [
    "#### Calculating ∆ and Γ"
   ]
  },
  {
   "cell_type": "code",
   "execution_count": 56,
   "id": "7fe02af2-a854-4c89-9acc-5330b221cc26",
   "metadata": {},
   "outputs": [
    {
     "data": {
      "text/plain": [
       "(0.9363030714158427, 0.0025240482194988085)"
      ]
     },
     "execution_count": 56,
     "metadata": {},
     "output_type": "execute_result"
    }
   ],
   "source": [
    "def value(S0, K = 100, r = 0.07, std = 0.25, T = 2, N = 1000, X = None):\n",
    "    X = np.asarray(X)\n",
    "    antiX = -X\n",
    "    ST = S0*np.exp((r - 0.5*std**2)*T + std*np.sqrt(T)*X)\n",
    "    antiST = S0*np.exp((r - 0.5*std**2)*T + std*np.sqrt(T)*antiX)\n",
    "    payoffs = np.maximum(ST-K, 0)\n",
    "    antipayoffs = np.maximum(antiST-K, 0)\n",
    "    V = np.exp(-r * T) * np.mean(np.concatenate([payoffs, antipayoffs]))\n",
    "    return np.mean(V)\n",
    "\n",
    "x, S0, K, runs = 0.1, 140, 100, 100000\n",
    "posArr = []\n",
    "negArr = []\n",
    "S0Arr = []\n",
    "\n",
    "for _ in range(runs):\n",
    "    Z = np.random.normal(size = N)\n",
    "    posArr.append(value(S0+x, K, X = Z))\n",
    "    negArr.append(value(S0-x, K, X = Z))\n",
    "    S0Arr.append(value(S0, K, X = Z))\n",
    "\n",
    "delta = (np.mean(posArr) - np.mean(negArr))/(2 * x)\n",
    "gamma = (np.mean(posArr) - 2*np.mean(S0Arr) + np.mean(negArr))/(x**2)\n",
    "\n",
    "delta, gamma"
   ]
  },
  {
   "cell_type": "markdown",
   "id": "673fd59c-c235-4f9c-ba70-623c5208c734",
   "metadata": {},
   "source": [
    "#### Heston Stochastic Volatility Model"
   ]
  },
  {
   "cell_type": "code",
   "execution_count": 23,
   "id": "082d9af4-35e7-4793-b290-cecf2f475db6",
   "metadata": {},
   "outputs": [
    {
     "data": {
      "text/plain": [
       "(11.221094519900308, 0.49530868779221876)"
      ]
     },
     "execution_count": 23,
     "metadata": {},
     "output_type": "execute_result"
    }
   ],
   "source": [
    "def Heston_paths(N, paths, T, S0, v0, mu, rho, kappa, theta, sigma):\n",
    "    dt = T / (N - 1)\n",
    "    dt_sq = np.sqrt(dt)\n",
    "    assert 2 * kappa * theta > sigma**2, \"NOT SATISFY FELLER CONDITION!!!\"\n",
    "    S_T = np.zeros(paths)\n",
    "    v_T = np.zeros(paths)\n",
    "\n",
    "    for path in range(paths):\n",
    "        W_S = np.random.normal(0, 1, N - 1)\n",
    "        W_v = rho * W_S + np.sqrt(1 - rho**2) * np.random.normal(0, 1, N - 1)\n",
    "        S = np.zeros(N)\n",
    "        v = np.zeros(N)\n",
    "        S[0] = S0\n",
    "        v[0] = v0\n",
    "        for t in range(N - 1):\n",
    "            v[t+1] = abs(\n",
    "                v[t] + kappa * (theta - v[t]) * dt + sigma * np.sqrt(v[t]) * dt_sq * W_v[t])\n",
    "            S[t+1] = S[t] * np.exp((mu - 0.5 * v[t]) * dt + np.sqrt(v[t]) * dt_sq * W_S[t])\n",
    "\n",
    "        S_T[path] = S[-1]\n",
    "        v_T[path] = v[-1]\n",
    "    return S_T, v_T\n",
    "\n",
    "N, paths, T, S0, K, v0, r, rho, kappa, theta, sigma = 1000, 1000, 1, 100, 100, 0.04, 0.07, -0.2, 2, 0.04, 0.3\n",
    "S, v = Heston_paths(N, paths, T, S0, v0, r, rho, kappa, theta, sigma)\n",
    "DiscountedPayoff = np.exp(-r * T) * np.maximum(S - K, 0)\n",
    "V = np.mean(DiscountedPayoff)\n",
    "std_err = ss.sem(DiscountedPayoff)\n",
    "\n",
    "V, std_err"
   ]
  },
  {
   "cell_type": "markdown",
   "id": "84336223-0122-4724-9b01-ad41443d95a3",
   "metadata": {},
   "source": [
    "#### Calculating Implied Volatility"
   ]
  },
  {
   "cell_type": "code",
   "execution_count": 33,
   "id": "f89e8f52-8fb9-4026-ac24-d0f562db71c9",
   "metadata": {},
   "outputs": [
    {
     "data": {
      "text/plain": [
       "0.4288650858948257"
      ]
     },
     "execution_count": 33,
     "metadata": {},
     "output_type": "execute_result"
    }
   ],
   "source": [
    "target_price, S, K, T, r, q =20, 100, 100, 1, 0.07, 0\n",
    "initial_guess = 0.5\n",
    "max_iter = 10000\n",
    "epsilon = 1e-8\n",
    "call_put = 1\n",
    "sigma = initial_guess\n",
    "\n",
    "for _ in range(max_iter):\n",
    "    d1 = (np.log(S / K) + (r - q + 0.5 * sigma**2) * T) / (sigma * np.sqrt(T))\n",
    "    d2 = d1 - sigma * np.sqrt(T)\n",
    "\n",
    "    if call_put == 1:\n",
    "        V = S * np.exp(-q * T) * norm.cdf(d1) - K * np.exp(-r * T) * norm.cdf(d2)\n",
    "    else:\n",
    "        V = K * np.exp(-r * T) * norm.cdf(-d2) - S * np.exp(-q * T) * norm.cdf(-d1)\n",
    "    V = np.nan_to_num(V, nan=0.0)\n",
    "    vega = S * np.sqrt(T) * np.exp(-q * T) * norm.pdf(d1)\n",
    "    delta_price = target_price - V\n",
    "    \n",
    "    if abs(delta_price) < epsilon:\n",
    "        break\n",
    "\n",
    "    sigma += delta_price / vega / 100\n",
    "\n",
    "sigma"
   ]
  },
  {
   "cell_type": "markdown",
   "id": "4cb3d330-173a-4b09-940d-4ccc6aaf9d46",
   "metadata": {},
   "source": [
    "#### Finite Difference Methods"
   ]
  },
  {
   "cell_type": "code",
   "execution_count": null,
   "id": "dfc73aa3-b0fc-4188-aac3-17d9bd46e246",
   "metadata": {},
   "outputs": [
    {
     "data": {
      "text/html": [
       "<div>\n",
       "<style scoped>\n",
       "    .dataframe tbody tr th:only-of-type {\n",
       "        vertical-align: middle;\n",
       "    }\n",
       "\n",
       "    .dataframe tbody tr th {\n",
       "        vertical-align: top;\n",
       "    }\n",
       "\n",
       "    .dataframe thead th {\n",
       "        text-align: right;\n",
       "    }\n",
       "</style>\n",
       "<table border=\"1\" class=\"dataframe\">\n",
       "  <thead>\n",
       "    <tr style=\"text-align: right;\">\n",
       "      <th></th>\n",
       "      <th>N (time)</th>\n",
       "      <th>M (space)</th>\n",
       "      <th>BS exact</th>\n",
       "      <th>Explicit</th>\n",
       "      <th>Implicit</th>\n",
       "      <th>Crank–Nicolson</th>\n",
       "      <th>Explicit time (ms)</th>\n",
       "      <th>Implicit time (ms)</th>\n",
       "      <th>CN time (ms)</th>\n",
       "      <th>Explicit abs error</th>\n",
       "      <th>Implicit abs error</th>\n",
       "      <th>CN abs error</th>\n",
       "    </tr>\n",
       "  </thead>\n",
       "  <tbody>\n",
       "    <tr>\n",
       "      <th>0</th>\n",
       "      <td>2500</td>\n",
       "      <td>200</td>\n",
       "      <td>13.363881</td>\n",
       "      <td>13.356619</td>\n",
       "      <td>13.355504</td>\n",
       "      <td>13.356051</td>\n",
       "      <td>14.611083</td>\n",
       "      <td>307.809959</td>\n",
       "      <td>302.602458</td>\n",
       "      <td>0.007263</td>\n",
       "      <td>0.008378</td>\n",
       "      <td>0.007830</td>\n",
       "    </tr>\n",
       "    <tr>\n",
       "      <th>1</th>\n",
       "      <td>10000</td>\n",
       "      <td>400</td>\n",
       "      <td>13.363881</td>\n",
       "      <td>13.362082</td>\n",
       "      <td>13.361789</td>\n",
       "      <td>13.361926</td>\n",
       "      <td>34.312500</td>\n",
       "      <td>2596.553417</td>\n",
       "      <td>2573.483333</td>\n",
       "      <td>0.001799</td>\n",
       "      <td>0.002092</td>\n",
       "      <td>0.001956</td>\n",
       "    </tr>\n",
       "    <tr>\n",
       "      <th>2</th>\n",
       "      <td>22501</td>\n",
       "      <td>600</td>\n",
       "      <td>13.363881</td>\n",
       "      <td>13.363093</td>\n",
       "      <td>13.362952</td>\n",
       "      <td>13.363013</td>\n",
       "      <td>85.447666</td>\n",
       "      <td>8400.535875</td>\n",
       "      <td>8349.431875</td>\n",
       "      <td>0.000788</td>\n",
       "      <td>0.000930</td>\n",
       "      <td>0.000869</td>\n",
       "    </tr>\n",
       "    <tr>\n",
       "      <th>3</th>\n",
       "      <td>40000</td>\n",
       "      <td>800</td>\n",
       "      <td>13.363881</td>\n",
       "      <td>13.363447</td>\n",
       "      <td>13.363359</td>\n",
       "      <td>13.363393</td>\n",
       "      <td>211.398416</td>\n",
       "      <td>19788.383958</td>\n",
       "      <td>19750.871459</td>\n",
       "      <td>0.000435</td>\n",
       "      <td>0.000523</td>\n",
       "      <td>0.000489</td>\n",
       "    </tr>\n",
       "  </tbody>\n",
       "</table>\n",
       "</div>"
      ],
      "text/plain": [
       "   N (time)  M (space)   BS exact   Explicit   Implicit  Crank–Nicolson  \\\n",
       "0      2500        200  13.363881  13.356619  13.355504       13.356051   \n",
       "1     10000        400  13.363881  13.362082  13.361789       13.361926   \n",
       "2     22501        600  13.363881  13.363093  13.362952       13.363013   \n",
       "3     40000        800  13.363881  13.363447  13.363359       13.363393   \n",
       "\n",
       "   Explicit time (ms)  Implicit time (ms)  CN time (ms)  Explicit abs error  \\\n",
       "0           14.611083          307.809959    302.602458            0.007263   \n",
       "1           34.312500         2596.553417   2573.483333            0.001799   \n",
       "2           85.447666         8400.535875   8349.431875            0.000788   \n",
       "3          211.398416        19788.383958  19750.871459            0.000435   \n",
       "\n",
       "   Implicit abs error  CN abs error  \n",
       "0            0.008378      0.007830  \n",
       "1            0.002092      0.001956  \n",
       "2            0.000930      0.000869  \n",
       "3            0.000523      0.000489  "
      ]
     },
     "execution_count": 129,
     "metadata": {},
     "output_type": "execute_result"
    }
   ],
   "source": [
    "S0 = 100\n",
    "K  = 100\n",
    "r  = 0.07\n",
    "sigma = 0.25\n",
    "T = 1\n",
    "M = 400\n",
    "Smax = 4.0 * S0\n",
    "FORCE_N = None\n",
    "SQRT_2 = math.sqrt(2.0)\n",
    "\n",
    "def norm_cdf(x: float) -> float:\n",
    "    return 0.5 * (1.0 + math.erf(x / SQRT_2))\n",
    "\n",
    "def bs_call_price(S: float, K: float, r: float, sigma: float, T: float) -> float:\n",
    "    if T <= 0:\n",
    "        return max(S - K, 0.0)\n",
    "    if S <= 0:\n",
    "        return 0.0\n",
    "    d1 = (math.log(S / K) + (r + 0.5 * sigma**2) * T) / (sigma * math.sqrt(T))\n",
    "    d2 = d1 - sigma * math.sqrt(T)\n",
    "    return S * norm_cdf(d1) - K * math.exp(-r * T) * norm_cdf(d2)\n",
    "\n",
    "def thomas_tridiagonal(l, d, u, b) -> np.ndarray:\n",
    "    n = len(d)\n",
    "    c_prime = np.zeros(n-1)\n",
    "    d_prime = np.zeros(n)\n",
    "    c_prime[0] = u[0] / d[0]\n",
    "    d_prime[0] = b[0] / d[0]\n",
    "    for i in range(1, n-1):\n",
    "        denom = d[i] - l[i-1] * c_prime[i-1]\n",
    "        c_prime[i] = u[i] / denom\n",
    "        d_prime[i] = (b[i] - l[i-1] * d_prime[i-1]) / denom\n",
    "    denom = d[n-1] - l[n-2] * c_prime[n-2]\n",
    "    d_prime[n-1] = (b[n-1] - l[n-2] * d_prime[n-2]) / denom\n",
    "    x = np.zeros(n)\n",
    "    x[n-1] = d_prime[n-1]\n",
    "    for i in range(n-2, -1, -1):\n",
    "        x[i] = d_prime[i] - c_prime[i] * x[i+1]\n",
    "    return x\n",
    "\n",
    "def setup_operator(M: int, dS: float, r: float, sigma: float):\n",
    "    j = np.arange(1, M)\n",
    "    S = j * dS\n",
    "    a = 0.5 * sigma**2 * (S**2) / (dS**2)\n",
    "    b = 0.5 * r * S / dS\n",
    "    lower = (a - b)\n",
    "    diag  = (-2.0 * a - r)\n",
    "    upper = (a + b)\n",
    "    return lower, diag, upper\n",
    "\n",
    "def fd_solve(theta: float, S0, K, r, sigma, T, M, Smax, N=None):\n",
    "    dS = Smax / M\n",
    "    if N is None:\n",
    "        dt_stable = (dS**2) / (sigma**2 * (Smax**2))\n",
    "        N_local = max(int(math.ceil(T / min(dt_stable, T))), 2000)\n",
    "    else:\n",
    "        N_local = int(N)\n",
    "\n",
    "    dt = T / N_local\n",
    "\n",
    "    S_vals = np.linspace(0.0, Smax, M+1)\n",
    "    V = np.maximum(S_vals - K, 0.0)\n",
    "\n",
    "    lower, diag, upper = setup_operator(M, dS, r, sigma)\n",
    "\n",
    "    I = np.ones(M-1)\n",
    "    A_lower = -theta * dt * lower\n",
    "    A_diag  = I - theta * dt * diag\n",
    "    A_upper = -theta * dt * upper\n",
    "\n",
    "    B_lower = (1.0 - theta) * dt * lower\n",
    "    B_diag  = I + (1.0 - theta) * dt * diag\n",
    "    B_upper = (1.0 - theta) * dt * upper\n",
    "\n",
    "    start = time.perf_counter()\n",
    "\n",
    "    for n in range(N_local, 0, -1):\n",
    "        t = (n-1) * dt\n",
    "        V_0 = 0.0\n",
    "        V_M = Smax - K * math.exp(-r * t)\n",
    "\n",
    "        V_int = V[1:M]\n",
    "\n",
    "        if theta == 0.0:\n",
    "            LV = lower * V[0:M-1] + diag * V[1:M] + upper * V[2:M+1]\n",
    "            V_new_int = V_int + dt * LV\n",
    "            V_new_int[0]  += dt * lower[0]  * V_0\n",
    "            V_new_int[-1] += dt * upper[-1] * V_M\n",
    "        else:\n",
    "            RHS = (B_diag * V_int) + (B_lower * V[0:M-1]) + (B_upper * V[2:M+1])\n",
    "            RHS[0]  -= A_lower[0]   * V_0\n",
    "            RHS[-1] -= A_upper[-1]  * V_M\n",
    "            V_new_int = thomas_tridiagonal(A_lower[1:], A_diag.copy(), A_upper[:-1], RHS)\n",
    "\n",
    "        V[1:M] = V_new_int\n",
    "        V[0]   = V_0\n",
    "        V[M]   = V_M\n",
    "\n",
    "    elapsed_ms = (time.perf_counter() - start) * 1000.0\n",
    "    price = np.interp(S0, S_vals, V)\n",
    "    return price, elapsed_ms, N_local, M\n",
    "    \n",
    "M_values = [200, 400, 600, 800]\n",
    "\n",
    "results = []\n",
    "price_exact = bs_call_price(S0, K, r, sigma, T)\n",
    "\n",
    "for M in M_values:\n",
    "    N_for_all = FORCE_N\n",
    "    price_explicit, t_explicit, N_used, M_used = fd_solve(0.0, S0, K, r, sigma, T, M, Smax, N_for_all)\n",
    "    price_implicit, t_implicit, _, _          = fd_solve(1.0, S0, K, r, sigma, T, M, Smax, N_for_all)\n",
    "    price_cn, t_cn, _, _                       = fd_solve(0.5, S0, K, r, sigma, T, M, Smax, N_for_all)\n",
    "    abs_err_exp = abs(price_explicit - price_exact)\n",
    "    abs_err_imp = abs(price_implicit - price_exact)\n",
    "    abs_err_cn  = abs(price_cn - price_exact)\n",
    "\n",
    "    results.append({\n",
    "        \"N (time)\": N_used,\n",
    "        \"M (space)\": M_used,\n",
    "        \"BS exact\": price_exact,\n",
    "        \"Explicit\": price_explicit,\n",
    "        \"Implicit\": price_implicit,\n",
    "        \"Crank–Nicolson\": price_cn,\n",
    "        \"Explicit time (ms)\": t_explicit,\n",
    "        \"Implicit time (ms)\": t_implicit,\n",
    "        \"CN time (ms)\": t_cn,\n",
    "        \"Explicit abs error\": abs_err_exp,\n",
    "        \"Implicit abs error\": abs_err_imp,\n",
    "        \"CN abs error\": abs_err_cn,\n",
    "    })\n",
    "\n",
    "df = pd.DataFrame(results)\n",
    "df"
   ]
  },
  {
   "cell_type": "code",
   "execution_count": null,
   "id": "4edcafa4-2155-4747-94de-d7af545c606c",
   "metadata": {},
   "outputs": [],
   "source": []
  },
  {
   "cell_type": "markdown",
   "id": "4d21278b-db4e-4b9d-bce7-ee78cb3a393d",
   "metadata": {},
   "source": [
    "### 6.2 Barrier Options"
   ]
  },
  {
   "cell_type": "markdown",
   "id": "8b7fad53-8662-463f-b3bc-9205c05fe251",
   "metadata": {},
   "source": [
    "#### Down and In using Monte Carlo Random Paths"
   ]
  },
  {
   "cell_type": "code",
   "execution_count": 46,
   "id": "1747274d-9026-4ca1-baab-d77827152884",
   "metadata": {},
   "outputs": [
    {
     "data": {
      "text/plain": [
       "(3.236119265610753, 0.3073866568788746)"
      ]
     },
     "execution_count": 46,
     "metadata": {},
     "output_type": "execute_result"
    }
   ],
   "source": [
    "S0, K, B, r, sigma, T, npaths, nt = 100, 100, 90, 0.07, 0.25, 1, 1000, 1000\n",
    "dt  = T / nt\n",
    "sdt = np.sqrt(dt)\n",
    "\n",
    "S = np.empty((npaths, nt + 1), dtype=float)\n",
    "S[:, 0] = S0\n",
    "for t in range(nt):\n",
    "    Z  = np.random.normal(size=npaths)\n",
    "    dW = sdt * Z\n",
    "    St = S[:, t]\n",
    "    S[:, t+1] = St + r*St*dt + sigma*St*dW + 0.5*(sigma**2)*St*(dW**2 - dt)\n",
    "\n",
    "activated = (S.min(axis=1) <= B)\n",
    "S_T   = S[:, -1]\n",
    "payoff = np.maximum(S_T - K, 0.0)\n",
    "payoff = payoff * activated.astype(float)\n",
    "disc  = np.exp(-r*T)\n",
    "price = disc * payoff.mean()\n",
    "se    = disc * payoff.std(ddof=1) / np.sqrt(npaths)\n",
    "\n",
    "price, se"
   ]
  },
  {
   "cell_type": "markdown",
   "id": "694e8101-8335-4997-8336-dcf8f1d9d534",
   "metadata": {},
   "source": [
    "#### Up and out using Monte Carlo Random Paths"
   ]
  },
  {
   "cell_type": "code",
   "execution_count": 51,
   "id": "09d52ea0-fc55-48a9-802a-eace9fca0a98",
   "metadata": {},
   "outputs": [
    {
     "data": {
      "text/plain": [
       "(0.07028880801378809, 0.017016509874109527)"
      ]
     },
     "execution_count": 51,
     "metadata": {},
     "output_type": "execute_result"
    }
   ],
   "source": [
    "S0, K, B, r, sigma, T, npaths, nt = 100, 100, 110, 0.07, 0.25, 1, 1000, 1000\n",
    "dt  = T / nt\n",
    "sdt = np.sqrt(dt)\n",
    "\n",
    "S = np.empty((npaths, nt + 1), dtype=float)\n",
    "S[:, 0] = S0\n",
    "for t in range(nt):\n",
    "    Z  = np.random.normal(size=npaths)\n",
    "    dW = sdt * Z\n",
    "    St = S[:, t]\n",
    "    S[:, t+1] = St + r*St*dt + sigma*St*dW + 0.5*(sigma**2)*St*(dW**2 - dt)\n",
    "\n",
    "activated = (S.max(axis=1) < B)\n",
    "S_T   = S[:, -1]\n",
    "payoff = np.maximum(S_T - K, 0.0)\n",
    "payoff = payoff * activated.astype(float)\n",
    "disc  = np.exp(-r*T)\n",
    "price = disc * payoff.mean()\n",
    "se    = disc * payoff.std(ddof=1) / np.sqrt(npaths)\n",
    "\n",
    "price, se"
   ]
  },
  {
   "cell_type": "markdown",
   "id": "f8215e4a-1a43-4056-bb32-636c2c4af716",
   "metadata": {},
   "source": [
    "#### Up and In using Monte Carlo Random Paths"
   ]
  },
  {
   "cell_type": "code",
   "execution_count": 59,
   "id": "3d83aecc-7aa3-4f37-a85f-322bc1130380",
   "metadata": {},
   "outputs": [
    {
     "data": {
      "text/plain": [
       "(13.519347979810473, 0.5929752067116599)"
      ]
     },
     "execution_count": 59,
     "metadata": {},
     "output_type": "execute_result"
    }
   ],
   "source": [
    "S0, K, B, r, sigma, T, npaths, nt = 100, 100, 110, 0.07, 0.25, 1, 1000, 1000\n",
    "dt  = T / nt\n",
    "sdt = np.sqrt(dt)\n",
    "\n",
    "S = np.empty((npaths, nt + 1), dtype=float)\n",
    "S[:, 0] = S0\n",
    "for t in range(nt):\n",
    "    Z  = np.random.normal(size=npaths)\n",
    "    dW = sdt * Z\n",
    "    St = S[:, t]\n",
    "    S[:, t+1] = St + r*St*dt + sigma*St*dW + 0.5*(sigma**2)*St*(dW**2 - dt)\n",
    "\n",
    "activated = (S.max(axis=1) >= B)\n",
    "S_T   = S[:, -1]\n",
    "payoff = np.maximum(S_T - K, 0.0)\n",
    "payoff = payoff * activated.astype(float)\n",
    "disc  = np.exp(-r*T)\n",
    "price = disc * payoff.mean()\n",
    "se    = disc * payoff.std(ddof=1) / np.sqrt(npaths)\n",
    "\n",
    "price, se"
   ]
  },
  {
   "cell_type": "markdown",
   "id": "7c451acb-fcca-4795-94b4-65e1c6a4a7fc",
   "metadata": {},
   "source": [
    "#### Down and Out using Crank-Nicolson Method"
   ]
  },
  {
   "cell_type": "code",
   "execution_count": 90,
   "id": "d90569f2-3a3d-4756-acf0-d1bd082f8e85",
   "metadata": {},
   "outputs": [
    {
     "data": {
      "text/plain": [
       "16.0311050638976"
      ]
     },
     "execution_count": 90,
     "metadata": {},
     "output_type": "execute_result"
    }
   ],
   "source": [
    "T, S0, K, B, r, sigma = 1.0, 100.0, 90.0, 80.0, 0.07, 0.05\n",
    "n_t, n_s = 400, 600\n",
    "\n",
    "def get_result(x_data: np.array, y_data: np.array, val: float) -> float:\n",
    "    li = np.where(x_data < val)[0][-1]\n",
    "    ri = np.where(x_data >= val)[0][0]\n",
    "    if ri == val:\n",
    "        return y_data[ri]\n",
    "    else:\n",
    "        return (y_data[ri] - y_data[li]) / (x_data[ri] - x_data[li]) * (val - x_data[li]) + y_data[li]\n",
    "\n",
    "def const_tri_diag_mat_solve(params: np.array, mat_b: np.array) -> np.array:\n",
    "    n = len(mat_b)\n",
    "    x = np.zeros(n)\n",
    "    p1, p2, p3 = params[0], params[1], params[2]\n",
    "    coef_A = np.zeros(n)\n",
    "    coef_B = np.zeros(n)\n",
    "    coef_A[1] = - p3 / p2\n",
    "    coef_B[1] = mat_b[0] / p2\n",
    "    alpha_gamma = p2 / p1\n",
    "\n",
    "    for i in range(1, n - 1):\n",
    "        b_gamma = mat_b[i] / p1\n",
    "        coef_A[i + 1] =  - p3 / ( p1 * coef_A[i] + p2 )\n",
    "        coef_B[i + 1] = ( b_gamma - coef_B[i] ) / ( coef_A [i] + alpha_gamma) \n",
    "\n",
    "    i = n - 1\n",
    "    b_gamma = mat_b[i] / p1\n",
    "    x[i] = - ( coef_B[i]  - b_gamma ) / ( coef_A[i] + alpha_gamma )\n",
    "    for j in range(n - 1, 0 , -1):\n",
    "        x[j - 1] = x[j] * coef_A[j] + coef_B[j]\n",
    "    return x\n",
    "\n",
    "S_max = max(4.0*K, 4.0*S0)\n",
    "region = [[0, T], [B, S_max]]\n",
    "right_t, left_t = sigma**2 / 2 * (T - region[0][0]), sigma**2 / 2 * (T - region[0][1])\n",
    "left_x, right_x = math.log(region[1][0] / K), math.log(region[1][1] / K)\n",
    "tau = abs(right_t - left_t) / n_t\n",
    "h = abs(right_x - left_x) / n_x\n",
    "u = np.zeros((n_t, n_x))\n",
    "D =  2 * r / sigma**2\n",
    "\n",
    "for i in range(0, n_t): \n",
    "    u[i][0] = 0\n",
    "S_right = math.exp(right_x) * K  # S_max\n",
    "for i in range(n_t):\n",
    "    t_i = T - 2.0 * (i * tau) / (sigma**2)   # calendar time for row i\n",
    "    u[i][n_x - 1] = 1.0 - (K / S_right) * math.exp(-r * (T - t_i))\n",
    "for i in range(0, n_x):\n",
    "    u[0][i] = max(0 , 1 - math.exp(- ( left_x + i * h ) ) )\n",
    "\n",
    "size = n_x - 2\n",
    "p1, p2, p3 = - tau, 2 * h**2 + 2 * tau + tau * h * (1 + D), - tau - tau * h * (1 + D)\n",
    "A_mat_params = np.array([p1, p2, p3])\n",
    "p4 = 2 * h**2 - 2 * tau - tau * h * (1 + D)\n",
    "\n",
    "for k in range(0, n_t - 1):    \n",
    "    b = np.zeros(size)\n",
    "    b[0] = - p1 * u[k + 1][0] - p1 * u[k][0] + p4 * u[k][1] - p3 * u[k][2]\n",
    "    b[1:size - 1] = - p1 * u[k][1:size - 1] + p4 * u[k][2:size] - p3 * u[k][3:size + 1]\n",
    "    b[size - 1] = - p3 * u[k + 1][n_x - 1] - p1 * u[k][n_x - 3] + p4 * u[k][n_x - 2] - p3 * u[k][n_x - 1]\n",
    "    res = const_tri_diag_mat_solve(A_mat_params, b)\n",
    "    u[k + 1][1:n_x - 1] = res\n",
    "    x_data = np.exp(np.linspace(left_x, right_x, n_x)) * K\n",
    "for k in range(0, n_t):\n",
    "    u[k] = u[k] * x_data\n",
    "    \n",
    "T1 = sigma**2 * T / 2\n",
    "t = np.linspace(0, T1, n_t)\n",
    "t = T - 2 * t / sigma**2\n",
    "\n",
    "s = np.linspace(math.log( region[1][0] / K ), math.log( region[1][1] / K), n_x)\n",
    "s = np.exp(s) * K\n",
    "\n",
    "get_result(s, u[-1], S0)"
   ]
  },
  {
   "cell_type": "markdown",
   "id": "ae60a57b-4ce9-4c8c-b3bf-51d05e7aaf70",
   "metadata": {},
   "source": [
    "### 6.3 American Options"
   ]
  },
  {
   "cell_type": "markdown",
   "id": "88b770ef-d5d9-47e0-9f19-d7aeb166cc6d",
   "metadata": {},
   "source": [
    "#### Monte Carlo with Longstaff-Schwartz Regresssion"
   ]
  },
  {
   "cell_type": "code",
   "execution_count": 103,
   "id": "a7b83422-07a3-4463-9c52-f574d5425d55",
   "metadata": {},
   "outputs": [
    {
     "data": {
      "text/plain": [
       "96.7743633052969"
      ]
     },
     "execution_count": 103,
     "metadata": {},
     "output_type": "execute_result"
    }
   ],
   "source": [
    "def S_euler(S0, sigma, r, T, N, M):\n",
    "    dt = T/M\n",
    "    paths = []\n",
    "    for i in range(N):\n",
    "        S = np.zeros(M+1)\n",
    "        S[0] = S0\n",
    "        for n in range(M):\n",
    "            epsilon = np.random.normal(loc = 0, scale = 1)\n",
    "            S[n+1] = S[n] + r * S[n] * dt + sigma * S[n] * np.sqrt(dt) * epsilon\n",
    "        paths.append(S)\n",
    "    return paths\n",
    "    \n",
    "def amer_option(S0, sigma, r, T, K, step, N, M):\n",
    "    paths = np.array(S_euler(S0, sigma, r, T, N, M))\n",
    "    dt = T / M\n",
    "    final_payoffs = np.maximum(K - paths[:,-1], 0)\n",
    "\n",
    "    for t in range(M-1, step-1, -1):\n",
    "        S_t = paths[:, t]\n",
    "        ITM = np.where(S_t < K)[0]\n",
    "        if len(ITM) == 0:\n",
    "            continue\n",
    "\n",
    "        X = S_t[ITM]\n",
    "        Y = final_payoffs[ITM] * np.e ** (-r * dt)\n",
    "\n",
    "        #quadratic cos higher degrees overfit (i think quadratic arbitrary tho and like a quartic or smthing could work)\n",
    "        # WE ARE ESTIMATING THE CONTINUATION VALUE FORMULA USING STOCK PRICE\n",
    "        # WE FIT IT USING STATSMODELS OLS, can also look more deeply into results if u do summarize(results)\n",
    "        X_quadratic = np.column_stack((np.ones(len(X)), X, X ** 2)) # 1st column 1s, 2nd column X, 3rd column X^2\n",
    "        model = sm.OLS(Y, X_quadratic) # instantiating and fitting model, QUADRATIC REGRESSION!!\n",
    "        results = model.fit() # fititng model, this bit just basically getting results\n",
    "        cont_val = results.predict(X_quadratic) # predicting using polynomial regression\n",
    "        \n",
    "        exercise = K - X\n",
    "        final_payoffs[ITM] = np.where(exercise > cont_val, exercise, final_payoffs[ITM] * np.e ** (-r * dt))\n",
    "    price = np.mean(final_payoffs) * np.e ** (-r * dt)\n",
    "    return price\n",
    "\n",
    "amer_option(50, 0.25, 0.07, 1, 150, 900, 1000, 1000)"
   ]
  },
  {
   "cell_type": "markdown",
   "id": "3bd5c502-dabf-414c-b2b3-f782a4f485ef",
   "metadata": {},
   "source": [
    "### 6.4 Yield Curve Swap Solver"
   ]
  },
  {
   "cell_type": "markdown",
   "id": "6fc11213-b443-41b6-8c29-137dc88d99c7",
   "metadata": {},
   "source": [
    "#### Newton-Raphson Method"
   ]
  },
  {
   "cell_type": "code",
   "execution_count": 113,
   "id": "475630f1-7796-4c00-b508-2369ced21ab4",
   "metadata": {},
   "outputs": [
    {
     "data": {
      "text/plain": [
       "[0.985,\n",
       " 0.931393126086117,\n",
       " 0.8981148126188792,\n",
       " 0.8646085145212733,\n",
       " 0.8304406528129262,\n",
       " 0.7957458367043726,\n",
       " 0.7609881316681772]"
      ]
     },
     "execution_count": 113,
     "metadata": {},
     "output_type": "execute_result"
    }
   ],
   "source": [
    "def swaps(tenors, par_rates, accruals, seed_D1=None):\n",
    "    n = len(tenors)\n",
    "    D = [None]*n\n",
    "    if seed_D1 is not None:\n",
    "        D[0] = seed_D1\n",
    "    else:\n",
    "        D[0] = math.exp(-par_rates[0] * tenors[0])\n",
    "\n",
    "    for k in range(1, n):\n",
    "        S = par_rates[k]\n",
    "        alpha_k = accruals[k]\n",
    "        fixed_sum_known = sum(accruals[i] * D[i] for i in range(k))\n",
    "\n",
    "        def f(Dk):\n",
    "            return S * (fixed_sum_known + alpha_k * Dk) - (1.0 - Dk)\n",
    "\n",
    "        fprime = S * alpha_k + 1.0\n",
    "        Dk = math.exp(-S * tenors[k])\n",
    "\n",
    "        for _ in range(12):\n",
    "            step = f(Dk) / fprime\n",
    "            Dk -= step\n",
    "            if abs(step) < 1e-12:\n",
    "                break\n",
    "\n",
    "        D[k] = Dk\n",
    "    return D\n",
    "\n",
    "tenors    = [1, 2, 3, 4, 5, 6, 7]\n",
    "alphas    = [1.0]*7\n",
    "par = [0.0364, 0.0358, 0.0362, 0.0368, 0.0376, 0.0385, 0.0394]\n",
    "discounts = swaps(tenors, par, alphas, seed_D1=0.9850)\n",
    "discounts"
   ]
  }
 ],
 "metadata": {
  "kernelspec": {
   "display_name": "Python 3 (ipykernel)",
   "language": "python",
   "name": "python3"
  },
  "language_info": {
   "codemirror_mode": {
    "name": "ipython",
    "version": 3
   },
   "file_extension": ".py",
   "mimetype": "text/x-python",
   "name": "python",
   "nbconvert_exporter": "python",
   "pygments_lexer": "ipython3",
   "version": "3.12.7"
  }
 },
 "nbformat": 4,
 "nbformat_minor": 5
}
